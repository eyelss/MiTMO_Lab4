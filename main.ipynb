{
 "cells": [
  {
   "cell_type": "code",
   "execution_count": 1,
   "metadata": {
    "collapsed": true,
    "pycharm": {
     "name": "#%%\n"
    }
   },
   "outputs": [],
   "source": [
    "import scipy as sp\n",
    "import numpy as np\n",
    "import pandas as pd\n",
    "import matplotlib.pyplot as plt\n",
    "import os"
   ]
  },
  {
   "cell_type": "code",
   "execution_count": 38,
   "outputs": [
    {
     "data": {
      "text/plain": "                   Время         X      Y  Этаж            SSID  \\\n0    2022-05-13 10:53:25  1996.151  478.0     4       UTMN.FREE   \n1    2022-05-13 10:53:25  1996.151  478.0     4            UTMN   \n2    2022-05-13 10:53:25  1996.151  478.0     4      UTMN.STUDY   \n3    2022-05-13 10:53:25  1996.151  478.0     4        UTMN.OIT   \n4    2022-05-13 10:53:25  1996.151  478.0     4  MegaFonMR150-2   \n...                  ...       ...    ...   ...             ...   \n3472 2022-05-17 11:15:13   173.000  352.0     2             NaN   \n3473 2022-05-17 11:15:13   173.000  352.0     2      UTMN.STUDY   \n3474 2022-05-17 11:15:13   173.000  352.0     2             NaN   \n3475 2022-05-17 11:15:13   173.000  352.0     2             NaN   \n3476 2022-05-17 11:15:13   173.000  352.0     2       UTMN.FREE   \n\n        BSID(мак-адрес)  сигнал(dB)  частота   ?   ?          ш          д  \\\n0     dc:f7:19:0d:73:cc         -64     5745 NaN NaN  65.522274  57.159050   \n1     dc:f7:19:0d:73:cf         -64     5745 NaN NaN  65.522274  57.159050   \n2     dc:f7:19:0d:73:c9         -64     5745 NaN NaN  65.522274  57.159050   \n3     dc:f7:19:0d:73:ce         -64     5745 NaN NaN  65.522274  57.159050   \n4     9c:a9:e4:c4:1d:af         -59     5200 NaN NaN  65.522274  57.159050   \n...                 ...         ...      ...  ..  ..        ...        ...   \n3472  f0:1d:2d:ec:dc:a5         -73     2437 NaN NaN  65.522995  57.158714   \n3473  f0:1d:2d:ec:dc:a6         -73     2437 NaN NaN  65.522995  57.158714   \n3474  f0:1d:2d:ec:dc:a8         -74     2437 NaN NaN  65.522995  57.158714   \n3475  7a:83:c2:21:5e:ac         -89     2412 NaN NaN  65.522995  57.158714   \n3476  74:83:c2:24:f5:28         -84     2437 NaN NaN  65.522995  57.158714   \n\n            выс    точн  \n0     77.000000  14.619  \n1     77.000000  14.619  \n2     77.000000  14.619  \n3     77.000000  14.619  \n4     77.000000  14.619  \n...         ...     ...  \n3472  68.900002  15.133  \n3473  68.900002  15.133  \n3474  68.900002  15.133  \n3475  68.900002  15.133  \n3476  68.900002  15.133  \n\n[3477 rows x 14 columns]",
      "text/html": "<div>\n<style scoped>\n    .dataframe tbody tr th:only-of-type {\n        vertical-align: middle;\n    }\n\n    .dataframe tbody tr th {\n        vertical-align: top;\n    }\n\n    .dataframe thead th {\n        text-align: right;\n    }\n</style>\n<table border=\"1\" class=\"dataframe\">\n  <thead>\n    <tr style=\"text-align: right;\">\n      <th></th>\n      <th>Время</th>\n      <th>X</th>\n      <th>Y</th>\n      <th>Этаж</th>\n      <th>SSID</th>\n      <th>BSID(мак-адрес)</th>\n      <th>сигнал(dB)</th>\n      <th>частота</th>\n      <th>?</th>\n      <th>?</th>\n      <th>ш</th>\n      <th>д</th>\n      <th>выс</th>\n      <th>точн</th>\n    </tr>\n  </thead>\n  <tbody>\n    <tr>\n      <th>0</th>\n      <td>2022-05-13 10:53:25</td>\n      <td>1996.151</td>\n      <td>478.0</td>\n      <td>4</td>\n      <td>UTMN.FREE</td>\n      <td>dc:f7:19:0d:73:cc</td>\n      <td>-64</td>\n      <td>5745</td>\n      <td>NaN</td>\n      <td>NaN</td>\n      <td>65.522274</td>\n      <td>57.159050</td>\n      <td>77.000000</td>\n      <td>14.619</td>\n    </tr>\n    <tr>\n      <th>1</th>\n      <td>2022-05-13 10:53:25</td>\n      <td>1996.151</td>\n      <td>478.0</td>\n      <td>4</td>\n      <td>UTMN</td>\n      <td>dc:f7:19:0d:73:cf</td>\n      <td>-64</td>\n      <td>5745</td>\n      <td>NaN</td>\n      <td>NaN</td>\n      <td>65.522274</td>\n      <td>57.159050</td>\n      <td>77.000000</td>\n      <td>14.619</td>\n    </tr>\n    <tr>\n      <th>2</th>\n      <td>2022-05-13 10:53:25</td>\n      <td>1996.151</td>\n      <td>478.0</td>\n      <td>4</td>\n      <td>UTMN.STUDY</td>\n      <td>dc:f7:19:0d:73:c9</td>\n      <td>-64</td>\n      <td>5745</td>\n      <td>NaN</td>\n      <td>NaN</td>\n      <td>65.522274</td>\n      <td>57.159050</td>\n      <td>77.000000</td>\n      <td>14.619</td>\n    </tr>\n    <tr>\n      <th>3</th>\n      <td>2022-05-13 10:53:25</td>\n      <td>1996.151</td>\n      <td>478.0</td>\n      <td>4</td>\n      <td>UTMN.OIT</td>\n      <td>dc:f7:19:0d:73:ce</td>\n      <td>-64</td>\n      <td>5745</td>\n      <td>NaN</td>\n      <td>NaN</td>\n      <td>65.522274</td>\n      <td>57.159050</td>\n      <td>77.000000</td>\n      <td>14.619</td>\n    </tr>\n    <tr>\n      <th>4</th>\n      <td>2022-05-13 10:53:25</td>\n      <td>1996.151</td>\n      <td>478.0</td>\n      <td>4</td>\n      <td>MegaFonMR150-2</td>\n      <td>9c:a9:e4:c4:1d:af</td>\n      <td>-59</td>\n      <td>5200</td>\n      <td>NaN</td>\n      <td>NaN</td>\n      <td>65.522274</td>\n      <td>57.159050</td>\n      <td>77.000000</td>\n      <td>14.619</td>\n    </tr>\n    <tr>\n      <th>...</th>\n      <td>...</td>\n      <td>...</td>\n      <td>...</td>\n      <td>...</td>\n      <td>...</td>\n      <td>...</td>\n      <td>...</td>\n      <td>...</td>\n      <td>...</td>\n      <td>...</td>\n      <td>...</td>\n      <td>...</td>\n      <td>...</td>\n      <td>...</td>\n    </tr>\n    <tr>\n      <th>3472</th>\n      <td>2022-05-17 11:15:13</td>\n      <td>173.000</td>\n      <td>352.0</td>\n      <td>2</td>\n      <td>NaN</td>\n      <td>f0:1d:2d:ec:dc:a5</td>\n      <td>-73</td>\n      <td>2437</td>\n      <td>NaN</td>\n      <td>NaN</td>\n      <td>65.522995</td>\n      <td>57.158714</td>\n      <td>68.900002</td>\n      <td>15.133</td>\n    </tr>\n    <tr>\n      <th>3473</th>\n      <td>2022-05-17 11:15:13</td>\n      <td>173.000</td>\n      <td>352.0</td>\n      <td>2</td>\n      <td>UTMN.STUDY</td>\n      <td>f0:1d:2d:ec:dc:a6</td>\n      <td>-73</td>\n      <td>2437</td>\n      <td>NaN</td>\n      <td>NaN</td>\n      <td>65.522995</td>\n      <td>57.158714</td>\n      <td>68.900002</td>\n      <td>15.133</td>\n    </tr>\n    <tr>\n      <th>3474</th>\n      <td>2022-05-17 11:15:13</td>\n      <td>173.000</td>\n      <td>352.0</td>\n      <td>2</td>\n      <td>NaN</td>\n      <td>f0:1d:2d:ec:dc:a8</td>\n      <td>-74</td>\n      <td>2437</td>\n      <td>NaN</td>\n      <td>NaN</td>\n      <td>65.522995</td>\n      <td>57.158714</td>\n      <td>68.900002</td>\n      <td>15.133</td>\n    </tr>\n    <tr>\n      <th>3475</th>\n      <td>2022-05-17 11:15:13</td>\n      <td>173.000</td>\n      <td>352.0</td>\n      <td>2</td>\n      <td>NaN</td>\n      <td>7a:83:c2:21:5e:ac</td>\n      <td>-89</td>\n      <td>2412</td>\n      <td>NaN</td>\n      <td>NaN</td>\n      <td>65.522995</td>\n      <td>57.158714</td>\n      <td>68.900002</td>\n      <td>15.133</td>\n    </tr>\n    <tr>\n      <th>3476</th>\n      <td>2022-05-17 11:15:13</td>\n      <td>173.000</td>\n      <td>352.0</td>\n      <td>2</td>\n      <td>UTMN.FREE</td>\n      <td>74:83:c2:24:f5:28</td>\n      <td>-84</td>\n      <td>2437</td>\n      <td>NaN</td>\n      <td>NaN</td>\n      <td>65.522995</td>\n      <td>57.158714</td>\n      <td>68.900002</td>\n      <td>15.133</td>\n    </tr>\n  </tbody>\n</table>\n<p>3477 rows × 14 columns</p>\n</div>"
     },
     "execution_count": 38,
     "metadata": {},
     "output_type": "execute_result"
    }
   ],
   "source": [
    "pd.options.display.max_rows = 10\n",
    "\n",
    "import datetime\n",
    "def convert_dotnet_tick(ticks):\n",
    "    \"\"\"Convert .NET ticks to formatted ISO8601 time\n",
    "    Args:\n",
    "        ticks: integer\n",
    "            i.e 100 nanosecond increments since 1/1/1 AD\"\"\"\n",
    "    _date = datetime.datetime(1, 1, 1) + \\\n",
    "        datetime.timedelta(microseconds=ticks // 10)\n",
    "    if _date.year < 1900:  # strftime() requires year >= 1900\n",
    "        _date = _date.replace(year=_date.year + 1900)\n",
    "    return _date.strftime(\"%Y-%m-%d %H:%M:%S.%S\")[:-3]\n",
    "\n",
    "floor = 3\n",
    "dfs = []\n",
    "for (dirpath, dirnames, filenames) in os.walk(\"./csv\"):\n",
    "    for file in filenames:\n",
    "        path = os.path.join(dirpath, file)\n",
    "        if (file.endswith(\".csv\")):\n",
    "            dfs.append(pd.read_csv(path, delimiter=\",\", header=None, index_col=None))\n",
    "df = pd.concat(dfs, axis=0, ignore_index=True)\n",
    "line = \"Время,X,Y,Этаж,SSID,BSID(мак-адрес),сигнал(dB),частота,?,?,ш,д,выс,точн\".split(\",\")\n",
    "markup = {i: line[i] for i in range(14)}\n",
    "df = df.rename(columns=markup)\n",
    "df[\"Время\"] = df[\"Время\"].apply(lambda ts: pd.to_datetime(convert_dotnet_tick(ts)))\n",
    "# df = df[df[\"SSID\"] == \"UTMN\"]\n",
    "df"
   ],
   "metadata": {
    "collapsed": false,
    "pycharm": {
     "name": "#%%\n"
    }
   }
  },
  {
   "cell_type": "code",
   "execution_count": 51,
   "outputs": [
    {
     "data": {
      "text/plain": "Empty DataFrame\nColumns: [Время, X, Y, Этаж, SSID, BSID(мак-адрес), сигнал(dB), частота, ?, ?, ш, д, выс, точн]\nIndex: []",
      "text/html": "<div>\n<style scoped>\n    .dataframe tbody tr th:only-of-type {\n        vertical-align: middle;\n    }\n\n    .dataframe tbody tr th {\n        vertical-align: top;\n    }\n\n    .dataframe thead th {\n        text-align: right;\n    }\n</style>\n<table border=\"1\" class=\"dataframe\">\n  <thead>\n    <tr style=\"text-align: right;\">\n      <th></th>\n      <th>Время</th>\n      <th>X</th>\n      <th>Y</th>\n      <th>Этаж</th>\n      <th>SSID</th>\n      <th>BSID(мак-адрес)</th>\n      <th>сигнал(dB)</th>\n      <th>частота</th>\n      <th>?</th>\n      <th>?</th>\n      <th>ш</th>\n      <th>д</th>\n      <th>выс</th>\n      <th>точн</th>\n    </tr>\n  </thead>\n  <tbody>\n  </tbody>\n</table>\n</div>"
     },
     "execution_count": 51,
     "metadata": {},
     "output_type": "execute_result"
    }
   ],
   "source": [
    "df[df[\"сигнал(dB)\"] == None]"
   ],
   "metadata": {
    "collapsed": false,
    "pycharm": {
     "name": "#%%\n"
    }
   }
  },
  {
   "cell_type": "code",
   "execution_count": 40,
   "outputs": [
    {
     "data": {
      "text/plain": "                   Время      X       Y  Этаж            SSID  \\\n1660 2022-05-13 11:04:33  268.0  1427.0     2  MegaFonMR150-2   \n1661 2022-05-13 11:04:33  268.0  1427.0     2        UTMN.OIT   \n1662 2022-05-13 11:04:33  268.0  1427.0     2            UTMN   \n1663 2022-05-13 11:04:33  268.0  1427.0     2      UTMN.STUDY   \n1664 2022-05-13 11:04:33  268.0  1427.0     2             NaN   \n...                  ...    ...     ...   ...             ...   \n3472 2022-05-17 11:15:13  173.0   352.0     2             NaN   \n3473 2022-05-17 11:15:13  173.0   352.0     2      UTMN.STUDY   \n3474 2022-05-17 11:15:13  173.0   352.0     2             NaN   \n3475 2022-05-17 11:15:13  173.0   352.0     2             NaN   \n3476 2022-05-17 11:15:13  173.0   352.0     2       UTMN.FREE   \n\n        BSID(мак-адрес)  сигнал(dB)  частота   ?   ?          ш          д  \\\n1660  9c:a9:e4:c4:1d:af         -56     5200 NaN NaN  65.523402  57.158890   \n1661  f0:1d:2d:ed:16:41         -84     2412 NaN NaN  65.523402  57.158890   \n1662  f0:1d:2d:ed:16:40         -85     2412 NaN NaN  65.523402  57.158890   \n1663  f0:1d:2d:ed:12:e6         -84     2462 NaN NaN  65.523402  57.158890   \n1664  f0:1d:2d:ed:16:46         -86     5320 NaN NaN  65.523402  57.158890   \n...                 ...         ...      ...  ..  ..        ...        ...   \n3472  f0:1d:2d:ec:dc:a5         -73     2437 NaN NaN  65.522995  57.158714   \n3473  f0:1d:2d:ec:dc:a6         -73     2437 NaN NaN  65.522995  57.158714   \n3474  f0:1d:2d:ec:dc:a8         -74     2437 NaN NaN  65.522995  57.158714   \n3475  7a:83:c2:21:5e:ac         -89     2412 NaN NaN  65.522995  57.158714   \n3476  74:83:c2:24:f5:28         -84     2437 NaN NaN  65.522995  57.158714   \n\n            выс    точн  \n1660  72.500000  16.211  \n1661  72.500000  16.211  \n1662  72.500000  16.211  \n1663  72.500000  16.211  \n1664  72.500000  16.211  \n...         ...     ...  \n3472  68.900002  15.133  \n3473  68.900002  15.133  \n3474  68.900002  15.133  \n3475  68.900002  15.133  \n3476  68.900002  15.133  \n\n[853 rows x 14 columns]",
      "text/html": "<div>\n<style scoped>\n    .dataframe tbody tr th:only-of-type {\n        vertical-align: middle;\n    }\n\n    .dataframe tbody tr th {\n        vertical-align: top;\n    }\n\n    .dataframe thead th {\n        text-align: right;\n    }\n</style>\n<table border=\"1\" class=\"dataframe\">\n  <thead>\n    <tr style=\"text-align: right;\">\n      <th></th>\n      <th>Время</th>\n      <th>X</th>\n      <th>Y</th>\n      <th>Этаж</th>\n      <th>SSID</th>\n      <th>BSID(мак-адрес)</th>\n      <th>сигнал(dB)</th>\n      <th>частота</th>\n      <th>?</th>\n      <th>?</th>\n      <th>ш</th>\n      <th>д</th>\n      <th>выс</th>\n      <th>точн</th>\n    </tr>\n  </thead>\n  <tbody>\n    <tr>\n      <th>1660</th>\n      <td>2022-05-13 11:04:33</td>\n      <td>268.0</td>\n      <td>1427.0</td>\n      <td>2</td>\n      <td>MegaFonMR150-2</td>\n      <td>9c:a9:e4:c4:1d:af</td>\n      <td>-56</td>\n      <td>5200</td>\n      <td>NaN</td>\n      <td>NaN</td>\n      <td>65.523402</td>\n      <td>57.158890</td>\n      <td>72.500000</td>\n      <td>16.211</td>\n    </tr>\n    <tr>\n      <th>1661</th>\n      <td>2022-05-13 11:04:33</td>\n      <td>268.0</td>\n      <td>1427.0</td>\n      <td>2</td>\n      <td>UTMN.OIT</td>\n      <td>f0:1d:2d:ed:16:41</td>\n      <td>-84</td>\n      <td>2412</td>\n      <td>NaN</td>\n      <td>NaN</td>\n      <td>65.523402</td>\n      <td>57.158890</td>\n      <td>72.500000</td>\n      <td>16.211</td>\n    </tr>\n    <tr>\n      <th>1662</th>\n      <td>2022-05-13 11:04:33</td>\n      <td>268.0</td>\n      <td>1427.0</td>\n      <td>2</td>\n      <td>UTMN</td>\n      <td>f0:1d:2d:ed:16:40</td>\n      <td>-85</td>\n      <td>2412</td>\n      <td>NaN</td>\n      <td>NaN</td>\n      <td>65.523402</td>\n      <td>57.158890</td>\n      <td>72.500000</td>\n      <td>16.211</td>\n    </tr>\n    <tr>\n      <th>1663</th>\n      <td>2022-05-13 11:04:33</td>\n      <td>268.0</td>\n      <td>1427.0</td>\n      <td>2</td>\n      <td>UTMN.STUDY</td>\n      <td>f0:1d:2d:ed:12:e6</td>\n      <td>-84</td>\n      <td>2462</td>\n      <td>NaN</td>\n      <td>NaN</td>\n      <td>65.523402</td>\n      <td>57.158890</td>\n      <td>72.500000</td>\n      <td>16.211</td>\n    </tr>\n    <tr>\n      <th>1664</th>\n      <td>2022-05-13 11:04:33</td>\n      <td>268.0</td>\n      <td>1427.0</td>\n      <td>2</td>\n      <td>NaN</td>\n      <td>f0:1d:2d:ed:16:46</td>\n      <td>-86</td>\n      <td>5320</td>\n      <td>NaN</td>\n      <td>NaN</td>\n      <td>65.523402</td>\n      <td>57.158890</td>\n      <td>72.500000</td>\n      <td>16.211</td>\n    </tr>\n    <tr>\n      <th>...</th>\n      <td>...</td>\n      <td>...</td>\n      <td>...</td>\n      <td>...</td>\n      <td>...</td>\n      <td>...</td>\n      <td>...</td>\n      <td>...</td>\n      <td>...</td>\n      <td>...</td>\n      <td>...</td>\n      <td>...</td>\n      <td>...</td>\n      <td>...</td>\n    </tr>\n    <tr>\n      <th>3472</th>\n      <td>2022-05-17 11:15:13</td>\n      <td>173.0</td>\n      <td>352.0</td>\n      <td>2</td>\n      <td>NaN</td>\n      <td>f0:1d:2d:ec:dc:a5</td>\n      <td>-73</td>\n      <td>2437</td>\n      <td>NaN</td>\n      <td>NaN</td>\n      <td>65.522995</td>\n      <td>57.158714</td>\n      <td>68.900002</td>\n      <td>15.133</td>\n    </tr>\n    <tr>\n      <th>3473</th>\n      <td>2022-05-17 11:15:13</td>\n      <td>173.0</td>\n      <td>352.0</td>\n      <td>2</td>\n      <td>UTMN.STUDY</td>\n      <td>f0:1d:2d:ec:dc:a6</td>\n      <td>-73</td>\n      <td>2437</td>\n      <td>NaN</td>\n      <td>NaN</td>\n      <td>65.522995</td>\n      <td>57.158714</td>\n      <td>68.900002</td>\n      <td>15.133</td>\n    </tr>\n    <tr>\n      <th>3474</th>\n      <td>2022-05-17 11:15:13</td>\n      <td>173.0</td>\n      <td>352.0</td>\n      <td>2</td>\n      <td>NaN</td>\n      <td>f0:1d:2d:ec:dc:a8</td>\n      <td>-74</td>\n      <td>2437</td>\n      <td>NaN</td>\n      <td>NaN</td>\n      <td>65.522995</td>\n      <td>57.158714</td>\n      <td>68.900002</td>\n      <td>15.133</td>\n    </tr>\n    <tr>\n      <th>3475</th>\n      <td>2022-05-17 11:15:13</td>\n      <td>173.0</td>\n      <td>352.0</td>\n      <td>2</td>\n      <td>NaN</td>\n      <td>7a:83:c2:21:5e:ac</td>\n      <td>-89</td>\n      <td>2412</td>\n      <td>NaN</td>\n      <td>NaN</td>\n      <td>65.522995</td>\n      <td>57.158714</td>\n      <td>68.900002</td>\n      <td>15.133</td>\n    </tr>\n    <tr>\n      <th>3476</th>\n      <td>2022-05-17 11:15:13</td>\n      <td>173.0</td>\n      <td>352.0</td>\n      <td>2</td>\n      <td>UTMN.FREE</td>\n      <td>74:83:c2:24:f5:28</td>\n      <td>-84</td>\n      <td>2437</td>\n      <td>NaN</td>\n      <td>NaN</td>\n      <td>65.522995</td>\n      <td>57.158714</td>\n      <td>68.900002</td>\n      <td>15.133</td>\n    </tr>\n  </tbody>\n</table>\n<p>853 rows × 14 columns</p>\n</div>"
     },
     "execution_count": 40,
     "metadata": {},
     "output_type": "execute_result"
    }
   ],
   "source": [
    "df2 = df[df[\"Этаж\"] == 2]\n",
    "df2"
   ],
   "metadata": {
    "collapsed": false,
    "pycharm": {
     "name": "#%%\n"
    }
   }
  },
  {
   "cell_type": "code",
   "execution_count": 41,
   "outputs": [
    {
     "data": {
      "text/plain": "                   Время         X       Y  Этаж            SSID  \\\n1660 2022-05-13 11:04:33   268.000  1427.0     2  MegaFonMR150-2   \n1737 2022-05-13 11:05:03   315.000  1166.0     2  MegaFonMR150-2   \n1799 2022-05-13 11:07:33   200.000  1146.0     2  MegaFonMR150-2   \n1868 2022-05-13 11:09:05   200.000   773.0     2  MegaFonMR150-2   \n1934 2022-05-13 11:09:28   215.000   544.0     2  MegaFonMR150-2   \n...                  ...       ...     ...   ...             ...   \n2542 2022-05-13 11:15:56  1168.000   373.0     2  MegaFonMR150-2   \n2584 2022-05-13 11:16:22   920.000   371.0     2  MegaFonMR150-2   \n2638 2022-05-13 11:16:22   920.000   371.0     2  MegaFonMR150-2   \n3360 2022-05-17 10:53:19  1134.576  1738.0     2  MegaFonMR150-2   \n3397 2022-05-17 10:53:28  1027.576  1736.0     2  MegaFonMR150-2   \n\n        BSID(мак-адрес)  сигнал(dB)  частота   ?   ?          ш          д  \\\n1660  9c:a9:e4:c4:1d:af         -56     5200 NaN NaN  65.523402  57.158890   \n1737  9c:a9:e4:c4:1d:af         -56     5200 NaN NaN  65.523275  57.158880   \n1799  9c:a9:e4:c4:1d:af         -63     5200 NaN NaN  65.523295  57.158870   \n1868  9c:a9:e4:c4:1d:af         -62     5200 NaN NaN  65.523269  57.158859   \n1934  9c:a9:e4:c4:1d:af         -58     5200 NaN NaN  65.523229  57.158794   \n...                 ...         ...      ...  ..  ..        ...        ...   \n2542  9c:a9:e4:c4:1d:af         -57     5200 NaN NaN  65.522634  57.158890   \n2584  9c:a9:e4:c4:1d:af         -63     5200 NaN NaN  65.522714  57.158835   \n2638  9c:a9:e4:c4:1d:af         -64     5200 NaN NaN  65.522714  57.158835   \n3360  9c:a9:e4:c4:1d:af         -56     5240 NaN NaN  65.522700  57.159193   \n3397  9c:a9:e4:c4:1d:af         -55     5240 NaN NaN  65.523275  57.159064   \n\n            выс       точн  \n1660  72.500000  16.211000  \n1737  69.300003  21.118999  \n1799  69.300003  12.742000  \n1868  69.300003  13.429000  \n1934  69.400002  16.402000  \n...         ...        ...  \n2542  67.200005  19.690001  \n2584  69.300003  20.385000  \n2638  69.300003  20.385000  \n3360  65.900002  18.944000  \n3397  65.900002  17.638000  \n\n[14 rows x 14 columns]",
      "text/html": "<div>\n<style scoped>\n    .dataframe tbody tr th:only-of-type {\n        vertical-align: middle;\n    }\n\n    .dataframe tbody tr th {\n        vertical-align: top;\n    }\n\n    .dataframe thead th {\n        text-align: right;\n    }\n</style>\n<table border=\"1\" class=\"dataframe\">\n  <thead>\n    <tr style=\"text-align: right;\">\n      <th></th>\n      <th>Время</th>\n      <th>X</th>\n      <th>Y</th>\n      <th>Этаж</th>\n      <th>SSID</th>\n      <th>BSID(мак-адрес)</th>\n      <th>сигнал(dB)</th>\n      <th>частота</th>\n      <th>?</th>\n      <th>?</th>\n      <th>ш</th>\n      <th>д</th>\n      <th>выс</th>\n      <th>точн</th>\n    </tr>\n  </thead>\n  <tbody>\n    <tr>\n      <th>1660</th>\n      <td>2022-05-13 11:04:33</td>\n      <td>268.000</td>\n      <td>1427.0</td>\n      <td>2</td>\n      <td>MegaFonMR150-2</td>\n      <td>9c:a9:e4:c4:1d:af</td>\n      <td>-56</td>\n      <td>5200</td>\n      <td>NaN</td>\n      <td>NaN</td>\n      <td>65.523402</td>\n      <td>57.158890</td>\n      <td>72.500000</td>\n      <td>16.211000</td>\n    </tr>\n    <tr>\n      <th>1737</th>\n      <td>2022-05-13 11:05:03</td>\n      <td>315.000</td>\n      <td>1166.0</td>\n      <td>2</td>\n      <td>MegaFonMR150-2</td>\n      <td>9c:a9:e4:c4:1d:af</td>\n      <td>-56</td>\n      <td>5200</td>\n      <td>NaN</td>\n      <td>NaN</td>\n      <td>65.523275</td>\n      <td>57.158880</td>\n      <td>69.300003</td>\n      <td>21.118999</td>\n    </tr>\n    <tr>\n      <th>1799</th>\n      <td>2022-05-13 11:07:33</td>\n      <td>200.000</td>\n      <td>1146.0</td>\n      <td>2</td>\n      <td>MegaFonMR150-2</td>\n      <td>9c:a9:e4:c4:1d:af</td>\n      <td>-63</td>\n      <td>5200</td>\n      <td>NaN</td>\n      <td>NaN</td>\n      <td>65.523295</td>\n      <td>57.158870</td>\n      <td>69.300003</td>\n      <td>12.742000</td>\n    </tr>\n    <tr>\n      <th>1868</th>\n      <td>2022-05-13 11:09:05</td>\n      <td>200.000</td>\n      <td>773.0</td>\n      <td>2</td>\n      <td>MegaFonMR150-2</td>\n      <td>9c:a9:e4:c4:1d:af</td>\n      <td>-62</td>\n      <td>5200</td>\n      <td>NaN</td>\n      <td>NaN</td>\n      <td>65.523269</td>\n      <td>57.158859</td>\n      <td>69.300003</td>\n      <td>13.429000</td>\n    </tr>\n    <tr>\n      <th>1934</th>\n      <td>2022-05-13 11:09:28</td>\n      <td>215.000</td>\n      <td>544.0</td>\n      <td>2</td>\n      <td>MegaFonMR150-2</td>\n      <td>9c:a9:e4:c4:1d:af</td>\n      <td>-58</td>\n      <td>5200</td>\n      <td>NaN</td>\n      <td>NaN</td>\n      <td>65.523229</td>\n      <td>57.158794</td>\n      <td>69.400002</td>\n      <td>16.402000</td>\n    </tr>\n    <tr>\n      <th>...</th>\n      <td>...</td>\n      <td>...</td>\n      <td>...</td>\n      <td>...</td>\n      <td>...</td>\n      <td>...</td>\n      <td>...</td>\n      <td>...</td>\n      <td>...</td>\n      <td>...</td>\n      <td>...</td>\n      <td>...</td>\n      <td>...</td>\n      <td>...</td>\n    </tr>\n    <tr>\n      <th>2542</th>\n      <td>2022-05-13 11:15:56</td>\n      <td>1168.000</td>\n      <td>373.0</td>\n      <td>2</td>\n      <td>MegaFonMR150-2</td>\n      <td>9c:a9:e4:c4:1d:af</td>\n      <td>-57</td>\n      <td>5200</td>\n      <td>NaN</td>\n      <td>NaN</td>\n      <td>65.522634</td>\n      <td>57.158890</td>\n      <td>67.200005</td>\n      <td>19.690001</td>\n    </tr>\n    <tr>\n      <th>2584</th>\n      <td>2022-05-13 11:16:22</td>\n      <td>920.000</td>\n      <td>371.0</td>\n      <td>2</td>\n      <td>MegaFonMR150-2</td>\n      <td>9c:a9:e4:c4:1d:af</td>\n      <td>-63</td>\n      <td>5200</td>\n      <td>NaN</td>\n      <td>NaN</td>\n      <td>65.522714</td>\n      <td>57.158835</td>\n      <td>69.300003</td>\n      <td>20.385000</td>\n    </tr>\n    <tr>\n      <th>2638</th>\n      <td>2022-05-13 11:16:22</td>\n      <td>920.000</td>\n      <td>371.0</td>\n      <td>2</td>\n      <td>MegaFonMR150-2</td>\n      <td>9c:a9:e4:c4:1d:af</td>\n      <td>-64</td>\n      <td>5200</td>\n      <td>NaN</td>\n      <td>NaN</td>\n      <td>65.522714</td>\n      <td>57.158835</td>\n      <td>69.300003</td>\n      <td>20.385000</td>\n    </tr>\n    <tr>\n      <th>3360</th>\n      <td>2022-05-17 10:53:19</td>\n      <td>1134.576</td>\n      <td>1738.0</td>\n      <td>2</td>\n      <td>MegaFonMR150-2</td>\n      <td>9c:a9:e4:c4:1d:af</td>\n      <td>-56</td>\n      <td>5240</td>\n      <td>NaN</td>\n      <td>NaN</td>\n      <td>65.522700</td>\n      <td>57.159193</td>\n      <td>65.900002</td>\n      <td>18.944000</td>\n    </tr>\n    <tr>\n      <th>3397</th>\n      <td>2022-05-17 10:53:28</td>\n      <td>1027.576</td>\n      <td>1736.0</td>\n      <td>2</td>\n      <td>MegaFonMR150-2</td>\n      <td>9c:a9:e4:c4:1d:af</td>\n      <td>-55</td>\n      <td>5240</td>\n      <td>NaN</td>\n      <td>NaN</td>\n      <td>65.523275</td>\n      <td>57.159064</td>\n      <td>65.900002</td>\n      <td>17.638000</td>\n    </tr>\n  </tbody>\n</table>\n<p>14 rows × 14 columns</p>\n</div>"
     },
     "execution_count": 41,
     "metadata": {},
     "output_type": "execute_result"
    }
   ],
   "source": [
    "BSID_max = df2.groupby(by=\"BSID(мак-адрес)\")[\"BSID(мак-адрес)\"].count().idxmax()\n",
    "df3 = df2[df2[\"BSID(мак-адрес)\"] == BSID_max]\n",
    "df3"
   ],
   "metadata": {
    "collapsed": false,
    "pycharm": {
     "name": "#%%\n"
    }
   }
  },
  {
   "cell_type": "code",
   "execution_count": 42,
   "outputs": [
    {
     "data": {
      "text/plain": "             X       Y  сигнал(dB)\n1660   268.000  1427.0         -56\n1737   315.000  1166.0         -56\n1799   200.000  1146.0         -63\n1868   200.000   773.0         -62\n1934   215.000   544.0         -58\n...        ...     ...         ...\n2542  1168.000   373.0         -57\n2584   920.000   371.0         -63\n2638   920.000   371.0         -64\n3360  1134.576  1738.0         -56\n3397  1027.576  1736.0         -55\n\n[14 rows x 3 columns]",
      "text/html": "<div>\n<style scoped>\n    .dataframe tbody tr th:only-of-type {\n        vertical-align: middle;\n    }\n\n    .dataframe tbody tr th {\n        vertical-align: top;\n    }\n\n    .dataframe thead th {\n        text-align: right;\n    }\n</style>\n<table border=\"1\" class=\"dataframe\">\n  <thead>\n    <tr style=\"text-align: right;\">\n      <th></th>\n      <th>X</th>\n      <th>Y</th>\n      <th>сигнал(dB)</th>\n    </tr>\n  </thead>\n  <tbody>\n    <tr>\n      <th>1660</th>\n      <td>268.000</td>\n      <td>1427.0</td>\n      <td>-56</td>\n    </tr>\n    <tr>\n      <th>1737</th>\n      <td>315.000</td>\n      <td>1166.0</td>\n      <td>-56</td>\n    </tr>\n    <tr>\n      <th>1799</th>\n      <td>200.000</td>\n      <td>1146.0</td>\n      <td>-63</td>\n    </tr>\n    <tr>\n      <th>1868</th>\n      <td>200.000</td>\n      <td>773.0</td>\n      <td>-62</td>\n    </tr>\n    <tr>\n      <th>1934</th>\n      <td>215.000</td>\n      <td>544.0</td>\n      <td>-58</td>\n    </tr>\n    <tr>\n      <th>...</th>\n      <td>...</td>\n      <td>...</td>\n      <td>...</td>\n    </tr>\n    <tr>\n      <th>2542</th>\n      <td>1168.000</td>\n      <td>373.0</td>\n      <td>-57</td>\n    </tr>\n    <tr>\n      <th>2584</th>\n      <td>920.000</td>\n      <td>371.0</td>\n      <td>-63</td>\n    </tr>\n    <tr>\n      <th>2638</th>\n      <td>920.000</td>\n      <td>371.0</td>\n      <td>-64</td>\n    </tr>\n    <tr>\n      <th>3360</th>\n      <td>1134.576</td>\n      <td>1738.0</td>\n      <td>-56</td>\n    </tr>\n    <tr>\n      <th>3397</th>\n      <td>1027.576</td>\n      <td>1736.0</td>\n      <td>-55</td>\n    </tr>\n  </tbody>\n</table>\n<p>14 rows × 3 columns</p>\n</div>"
     },
     "execution_count": 42,
     "metadata": {},
     "output_type": "execute_result"
    }
   ],
   "source": [
    "df4 = df3[[\"X\", \"Y\", \"сигнал(dB)\"]]\n",
    "df4"
   ],
   "metadata": {
    "collapsed": false,
    "pycharm": {
     "name": "#%%\n"
    }
   }
  },
  {
   "cell_type": "code",
   "execution_count": 43,
   "outputs": [
    {
     "data": {
      "text/plain": "             X       Y  сигнал(dB)\n1660   268.000  1427.0         -56\n1737   315.000  1166.0         -56\n1799   200.000  1146.0         -63\n1868   200.000   773.0         -62\n1934   215.000   544.0         -58\n...        ...     ...         ...\n2542  1168.000   373.0         -57\n2584   920.000   371.0         -63\n2638   920.000   371.0         -64\n3360  1134.576  1738.0         -56\n3397  1027.576  1736.0         -55\n\n[14 rows x 3 columns]",
      "text/html": "<div>\n<style scoped>\n    .dataframe tbody tr th:only-of-type {\n        vertical-align: middle;\n    }\n\n    .dataframe tbody tr th {\n        vertical-align: top;\n    }\n\n    .dataframe thead th {\n        text-align: right;\n    }\n</style>\n<table border=\"1\" class=\"dataframe\">\n  <thead>\n    <tr style=\"text-align: right;\">\n      <th></th>\n      <th>X</th>\n      <th>Y</th>\n      <th>сигнал(dB)</th>\n    </tr>\n  </thead>\n  <tbody>\n    <tr>\n      <th>1660</th>\n      <td>268.000</td>\n      <td>1427.0</td>\n      <td>-56</td>\n    </tr>\n    <tr>\n      <th>1737</th>\n      <td>315.000</td>\n      <td>1166.0</td>\n      <td>-56</td>\n    </tr>\n    <tr>\n      <th>1799</th>\n      <td>200.000</td>\n      <td>1146.0</td>\n      <td>-63</td>\n    </tr>\n    <tr>\n      <th>1868</th>\n      <td>200.000</td>\n      <td>773.0</td>\n      <td>-62</td>\n    </tr>\n    <tr>\n      <th>1934</th>\n      <td>215.000</td>\n      <td>544.0</td>\n      <td>-58</td>\n    </tr>\n    <tr>\n      <th>...</th>\n      <td>...</td>\n      <td>...</td>\n      <td>...</td>\n    </tr>\n    <tr>\n      <th>2542</th>\n      <td>1168.000</td>\n      <td>373.0</td>\n      <td>-57</td>\n    </tr>\n    <tr>\n      <th>2584</th>\n      <td>920.000</td>\n      <td>371.0</td>\n      <td>-63</td>\n    </tr>\n    <tr>\n      <th>2638</th>\n      <td>920.000</td>\n      <td>371.0</td>\n      <td>-64</td>\n    </tr>\n    <tr>\n      <th>3360</th>\n      <td>1134.576</td>\n      <td>1738.0</td>\n      <td>-56</td>\n    </tr>\n    <tr>\n      <th>3397</th>\n      <td>1027.576</td>\n      <td>1736.0</td>\n      <td>-55</td>\n    </tr>\n  </tbody>\n</table>\n<p>14 rows × 3 columns</p>\n</div>"
     },
     "execution_count": 43,
     "metadata": {},
     "output_type": "execute_result"
    }
   ],
   "source": [
    "df5 = df4.fillna(0)\n",
    "df5"
   ],
   "metadata": {
    "collapsed": false,
    "pycharm": {
     "name": "#%%\n"
    }
   }
  },
  {
   "cell_type": "code",
   "execution_count": 49,
   "outputs": [
    {
     "ename": "TypeError",
     "evalue": "bad operand type for unary ~: 'list'",
     "output_type": "error",
     "traceback": [
      "\u001B[1;31m---------------------------------------------------------------------------\u001B[0m",
      "\u001B[1;31mTypeError\u001B[0m                                 Traceback (most recent call last)",
      "Cell \u001B[1;32mIn [49], line 1\u001B[0m\n\u001B[1;32m----> 1\u001B[0m df6 \u001B[38;5;241m=\u001B[39m df5\u001B[38;5;241m.\u001B[39mreset_index()[\u001B[38;5;241m~\u001B[39m[\u001B[38;5;124m\"\u001B[39m\u001B[38;5;124mindex\u001B[39m\u001B[38;5;124m\"\u001B[39m]]\n\u001B[0;32m      2\u001B[0m \u001B[38;5;66;03m# df6[\"index\"] = abs(df6[\"X\"] * df6[\"Y\"] * df6[\"сигнал(dB)\"])\u001B[39;00m\n\u001B[0;32m      3\u001B[0m \u001B[38;5;66;03m# df6 = df6.set_index(\"index\")\u001B[39;00m\n\u001B[0;32m      4\u001B[0m df6\n",
      "\u001B[1;31mTypeError\u001B[0m: bad operand type for unary ~: 'list'"
     ]
    }
   ],
   "source": [
    "df6 = df5.reset_index()[[\"index\"]]\n",
    "# df6[\"index\"] = abs(df6[\"X\"] * df6[\"Y\"] * df6[\"сигнал(dB)\"])\n",
    "# df6 = df6.set_index(\"index\")\n",
    "df6"
   ],
   "metadata": {
    "collapsed": false,
    "pycharm": {
     "name": "#%%\n"
    }
   }
  },
  {
   "cell_type": "code",
   "execution_count": null,
   "outputs": [],
   "source": [],
   "metadata": {
    "collapsed": false,
    "pycharm": {
     "name": "#%%\n"
    }
   }
  }
 ],
 "metadata": {
  "kernelspec": {
   "display_name": "Python 3",
   "language": "python",
   "name": "python3"
  },
  "language_info": {
   "codemirror_mode": {
    "name": "ipython",
    "version": 2
   },
   "file_extension": ".py",
   "mimetype": "text/x-python",
   "name": "python",
   "nbconvert_exporter": "python",
   "pygments_lexer": "ipython2",
   "version": "2.7.6"
  }
 },
 "nbformat": 4,
 "nbformat_minor": 0
}